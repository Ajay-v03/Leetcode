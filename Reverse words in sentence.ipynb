{
 "cells": [
  {
   "cell_type": "markdown",
   "metadata": {},
   "source": [
    "# Reverse words in a sentence in Python without inbuilt function"
   ]
  },
  {
   "cell_type": "code",
   "execution_count": 5,
   "metadata": {},
   "outputs": [],
   "source": [
    "'''input = 'I love to play Football'\n",
    "output = 'Football play to love I'''\n",
    "import re\n",
    "def word_reverser(sentence):\n",
    "    \n",
    "    words = re.findall(r'\\w+', sentence)\n",
    "    \n",
    "    first = 0\n",
    "    last = len(words)-1\n",
    "    \n",
    "    while (first <= last):\n",
    "        \n",
    "        temp = words[first]\n",
    "        words[first] = words[last]\n",
    "        words[last] = temp\n",
    "        \n",
    "        first += 1\n",
    "        last -= 1\n",
    "        \n",
    "    \n",
    "    result = ''\n",
    "    for word in words:\n",
    "        '''if word in result is '':\n",
    "            result += word\n",
    "        else:'''\n",
    "        result += ' ' + word\n",
    "            \n",
    "    return result\n",
    "\n",
    "sentence = 'I love to play Football'\n",
    "word_reverser(sentence)"
   ]
  },
  {
   "cell_type": "markdown",
   "metadata": {},
   "source": [
    "# Reverse words in a sentence using Python inbuilt functions"
   ]
  },
  {
   "cell_type": "code",
   "execution_count": 15,
   "metadata": {},
   "outputs": [],
   "source": [
    "'''\n",
    "Input = 'I love to play Football'\n",
    "Output = 'Football play to love I'\n",
    "'''\n",
    "\n",
    "def word_reverser(sentence):\n",
    "    \n",
    "    if len(sentence) == 0:\n",
    "        return sentence\n",
    "    result = ' '.join(reversed(sentence.split()))\n",
    "    return result\n",
    "\n",
    "sentence = 'I love to play Football'\n",
    "word_reverser(sentence)"
   ]
  },
  {
   "cell_type": "code",
   "execution_count": null,
   "metadata": {},
   "outputs": [],
   "source": []
  },
  {
   "cell_type": "code",
   "execution_count": 21,
   "metadata": {},
   "outputs": [],
   "source": [
    "x = 'GeeksforGeeks'"
   ]
  },
  {
   "cell_type": "code",
   "execution_count": 22,
   "metadata": {},
   "outputs": [
    {
     "name": "stdout",
     "output_type": "stream",
     "text": [
      "skeeGrofskeeGs\n"
     ]
    }
   ],
   "source": [
    "xx = ''\n",
    "for i in range(len(x),-1,-1):\n",
    "    xx += x[i-1]\n",
    "    \n",
    "    \n",
    "print(xx)\n",
    "    "
   ]
  },
  {
   "cell_type": "code",
   "execution_count": null,
   "metadata": {},
   "outputs": [],
   "source": []
  }
 ],
 "metadata": {
  "kernelspec": {
   "display_name": "Python 3",
   "language": "python",
   "name": "python3"
  },
  "language_info": {
   "codemirror_mode": {
    "name": "ipython",
    "version": 3
   },
   "file_extension": ".py",
   "mimetype": "text/x-python",
   "name": "python",
   "nbconvert_exporter": "python",
   "pygments_lexer": "ipython3",
   "version": "3.8.10"
  }
 },
 "nbformat": 4,
 "nbformat_minor": 4
}
